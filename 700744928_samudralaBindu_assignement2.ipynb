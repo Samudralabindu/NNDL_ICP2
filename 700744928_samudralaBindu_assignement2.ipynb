{
 "cells": [
  {
   "cell_type": "code",
   "execution_count": 2,
   "id": "5bb24156",
   "metadata": {},
   "outputs": [
    {
     "name": "stdout",
     "output_type": "stream",
     "text": [
      "enter first name : Bindu\n",
      "enter last name : Samudrala\n",
      "User full name :  Bindu Samudrala\n",
      "Alternate String :  BnuSmdaa\n"
     ]
    }
   ],
   "source": [
    "## Task 1 \n",
    "#author: Samudrala Bindu\n",
    "#Enter the first name by user\n",
    "first_name= input(\"enter first name : \")\n",
    "#Enter the last name by user\n",
    "last_name= input(\"enter last name : \")\n",
    "\n",
    "#full_name is both first name and last name\n",
    "def full_name(first_name,last_name):\n",
    "    return first_name +\" \"+last_name\n",
    "#string_alternative function will prints the data alternatively\n",
    "def string_alternative(full_name):\n",
    "    new_str = \"\"\n",
    "    for index in range(0,len(full_name),2):\n",
    "                       new_str+=full_name[index]        \n",
    "    return new_str               \n",
    "\n",
    "\n",
    "print(\"User full name : \",full_name(first_name,last_name))\n",
    "\n",
    "print(\"Alternate String : \",string_alternative(full_name(first_name,last_name)))\n"
   ]
  },
  {
   "cell_type": "code",
   "execution_count": 5,
   "id": "1affd74e",
   "metadata": {},
   "outputs": [
    {
     "name": "stdout",
     "output_type": "stream",
     "text": [
      "Enter heights of customers(inches) (press q to quit):12\n",
      "Enter heights of customers(inches) (press q to quit):6\n",
      "Enter heights of customers(inches) (press q to quit):q\n",
      "L1:  ['12', '6']\n",
      "Output:  [30.48, 15.24]\n"
     ]
    }
   ],
   "source": [
    "## Task2 \n",
    "## author : Samudrala Bindu\n",
    "heights_list = []\n",
    "heights_in_cm = []\n",
    "#Enter the heights of customers\n",
    "while True:\n",
    "    inp_1 = input(\"Enter heights of customers(inches) (press q to quit):\")\n",
    "    if inp_1 == 'q':\n",
    "        break\n",
    "    else:\n",
    "        heights_list.append(inp_1)\n",
    "    \n",
    "print(\"L1: \",heights_list)\n",
    "heights_in_cm = [int(height) * 2.54 for height in heights_list]\n",
    "print(\"Output: \", heights_in_cm)\n",
    "        "
   ]
  },
  {
   "cell_type": "code",
   "execution_count": null,
   "id": "f5ef8b8f",
   "metadata": {},
   "outputs": [],
   "source": [
    "## Task 3\n",
    "## author: Samudrala Bindu\n",
    "with open('input.txt','r') as input_file:\n",
    "        a = dict()\n",
    "        for sentence in input_file:\n",
    "            sentence = sentence.strip()\n",
    "            sentence = sentence.lower()\n",
    "            words = sentence.split(\" \")\n",
    "            for word in words:\n",
    "                if word in a:\n",
    "                    a[word] = a[word] + 1\n",
    "                else:\n",
    "                    a[word] = 1\n",
    "        with open('Output.txt','w') as output_file:            \n",
    "            for key in list(a.keys()):\n",
    "                print(key,\":\",a[key],file = output_file)"
   ]
  }
 ],
 "metadata": {
  "kernelspec": {
   "display_name": "Python 3 (ipykernel)",
   "language": "python",
   "name": "python3"
  },
  "language_info": {
   "codemirror_mode": {
    "name": "ipython",
    "version": 3
   },
   "file_extension": ".py",
   "mimetype": "text/x-python",
   "name": "python",
   "nbconvert_exporter": "python",
   "pygments_lexer": "ipython3",
   "version": "3.10.9"
  }
 },
 "nbformat": 4,
 "nbformat_minor": 5
}
